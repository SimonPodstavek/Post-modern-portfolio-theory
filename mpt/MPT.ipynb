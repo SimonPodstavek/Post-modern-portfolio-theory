{
 "cells": [
  {
   "cell_type": "code",
   "execution_count": 2,
   "id": "d7543aa3-afa1-4758-beff-e995622767f7",
   "metadata": {},
   "outputs": [],
   "source": [
    "#import pandas na sporacovanie excel\n",
    "import pandas as pd\n",
    "import random\n",
    "import time\n",
    "import requests\n",
    "from datetime import datetime,timedelta\n",
    "import numpy as np\n",
    "import yfinance as yf\n",
    "from mpl_toolkits import mplot3d\n",
    "from mpl_toolkits.mplot3d import axes3d\n",
    "import matplotlib.pyplot as plt\n",
    "import ipywidgets\n",
    "from IPython.display import clear_output\n",
    "\n",
    "\n",
    "\n",
    "#import md na vizualizáciu tabuliek\n",
    "from IPython.display import Markdown as md"
   ]
  },
  {
   "cell_type": "code",
   "execution_count": 3,
   "id": "635505b0",
   "metadata": {},
   "outputs": [],
   "source": [
    "url= 'https://raw.githubusercontent.com/SimonPodstavek/XTBdata/master/helper.xlsx'\n",
    "myfile = requests.get(url)\n",
    "\n",
    "df=pd.read_excel(myfile.content,sheet_name='Sheet1')\n",
    "df.columns =['Col_1', 'Col_2']"
   ]
  },
  {
   "cell_type": "code",
   "execution_count": 4,
   "id": "dc779981",
   "metadata": {},
   "outputs": [],
   "source": [
    "def get_prices(tickers, days):\n",
    "    end_date = datetime.today().strftime('%Y-%m-%d')\n",
    "    start_date=(datetime.today()-timedelta(days=days)).strftime('%Y-%m-%d')\n",
    "    try:\n",
    "        data = yf.download(tickers,start_date,end_date)['Adj Close']\n",
    "        return data\n",
    "    except:\n",
    "        print(f\"TICKER {t} je nedostupný alebo nemá dostatok časových údajov\")"
   ]
  },
  {
   "cell_type": "markdown",
   "id": "f98ba8ba-e5c5-424a-88ba-65cec461ecb2",
   "metadata": {},
   "source": [
    "## Spracovácanie vstupov, výpočet Δadj.close DOD, Residuals X"
   ]
  },
  {
   "cell_type": "markdown",
   "id": "58706db3-bafa-413e-80bb-e529f1c60932",
   "metadata": {},
   "source": [
    "# Výpočet kovariácie a pomocné výpočty"
   ]
  },
  {
   "cell_type": "code",
   "execution_count": 5,
   "id": "1cbca57c-60b2-4824-894a-5dd6540bbcc7",
   "metadata": {},
   "outputs": [],
   "source": [
    "covariance=[]\n",
    "def calculate_residual(data,number_of_tickers):\n",
    "    number_records=df.shape[0]\n",
    "    data_pct = data.pct_change()\n",
    "    mean_pct = data_pct.mean(axis=0)\n",
    "    data_pct_center = data_pct.sub(mean_pct, axis=1)\n",
    "    \n",
    "    residuals = data_pct_center.values.tolist()\n",
    "    mean_pct=mean_pct.values.tolist()\n",
    "    # mean_pct=mean_pct.values.tolist()\n",
    "    residuals=residuals[1:]\n",
    "    calculate_covariance(residuals,number_records,number_of_tickers,mean_pct)\n",
    "\n",
    "\n",
    "def calculate_covariance(residuals,number_records,number_of_tickers,mean_pct):\n",
    "    global covariance\n",
    "    covariance=[]\n",
    "    T_residuals=np.transpose(residuals)\n",
    "    sum=0\n",
    "    \n",
    "    for stock_n in  range(number_of_tickers):\n",
    "        covariance.append([])\n",
    "        for i in range(number_of_tickers):\n",
    "            for T_i in range(len(T_residuals[stock_n])-1):\n",
    "                    # print(f'stock_n: {stock_n},T_i: {T_i}, i: {i}')\n",
    "                    sum+=T_residuals[stock_n][T_i]*residuals[T_i][i]\n",
    "            covariance[stock_n].append(sum/(number_days.value-1))\n",
    "            sum=0\n",
    "    # print(covariance)\n",
    "\n",
    "    print(covariance)\n",
    "    monte_carlo_simulation(number_portfolios.value,mean_pct,number_of_tickers)\n",
    "    return 0\n",
    "    \n",
    "\n",
    "def monte_carlo_simulation(number_portfolios,mean_pct,number_of_tickers):\n",
    "    global frontierData\n",
    "    tophigh=0   \n",
    "    highest=[]\n",
    "    frontierData=[]\n",
    "    loopi=0\n",
    "    for each in range(number_portfolios):\n",
    "        global covariance\n",
    "        assetWeights=[]  \n",
    "        weightscalc=[]\n",
    "        basisPoint=0\n",
    "        weightscalc=[random.random() for i in range(number_of_tickers)]\n",
    "        basisPoint=1/(np.sum(weightscalc))\n",
    "        for each in weightscalc:\n",
    "            assetWeights.append(each*basisPoint) \n",
    "\n",
    "        # Výpočet smerodajne odchylky portfólia 1. krok, násobenie prvej matice\n",
    "        covariancesFirstMultiple=[]\n",
    "        i=0\n",
    "        sum=0\n",
    "        for column in range(len(covariance[0])):\n",
    "            for weight in assetWeights:\n",
    "                sum+=covariance[column][i]*assetWeights[i]\n",
    "                i+=1\n",
    "            i=0\n",
    "            covariancesFirstMultiple.append(sum)\n",
    "\n",
    "        portfolioVariance=[]\n",
    "        T_assetWeights=np.transpose(assetWeights)\n",
    "        sum=0\n",
    "        for i in range(len(covariancesFirstMultiple)):\n",
    "            sum+=covariancesFirstMultiple[i]*T_assetWeights[i]\n",
    "        portfolioVariance.append(sum)\n",
    "        if portfolioVariance[0]:\n",
    "            portfolioStandardDeviation=portfolioVariance[0]**0.5\n",
    "        expected_portfolio_returnX=[]\n",
    "        expected_portfolio_returnX+=[mean_pct[i]*assetWeights[i] for i in range(len(mean_pct))]\n",
    "        expected_portfolio_return=np.sum(expected_portfolio_returnX)\n",
    "        modified_sharpe_ratio=(expected_portfolio_return)/portfolioStandardDeviation\n",
    "        \n",
    "        frontierData.append([])\n",
    "        frontierData[loopi].append(expected_portfolio_return)\n",
    "        frontierData[loopi].append(portfolioStandardDeviation)\n",
    "        loopi+=1\n",
    "\n",
    "# #Hľadanie najväćšieho sharpe ratio a zapisovanie dát pre graf\n",
    "    \n",
    "\n",
    "        if (modified_sharpe_ratio > tophigh):\n",
    "            tophigh=modified_sharpe_ratio\n",
    "            highest.append(assetWeights)\n",
    "            time.sleep(0.000001)\n",
    "\n",
    "    # print(\"---------------------------\")\n",
    "    # print(highest)\\\n",
    "    # print(expected_portfolio_return)\n",
    "    # print(portfolioStandardDeviation)\n",
    "    # print(frontierData)\n",
    "    # frontierData.sort(key=lambda row: (row|[0]))"
   ]
  },
  {
   "cell_type": "code",
   "execution_count": 6,
   "id": "e3bb3fe7-76ad-43cc-ab3a-fb9fc7f1c53f",
   "metadata": {
    "tags": []
   },
   "outputs": [
    {
     "data": {
      "application/vnd.jupyter.widget-view+json": {
       "model_id": "37bcc624afa947bc8779b21d38417e9a",
       "version_major": 2,
       "version_minor": 0
      },
      "text/plain": [
       "IntSlider(value=500, continuous_update=False, description='Simulovaných portfólií: ', max=1000, min=10)"
      ]
     },
     "metadata": {},
     "output_type": "display_data"
    },
    {
     "data": {
      "application/vnd.jupyter.widget-view+json": {
       "model_id": "b7e7fe7d56914144870bb2cdceca67b8",
       "version_major": 2,
       "version_minor": 0
      },
      "text/plain": [
       "IntSlider(value=100, continuous_update=False, description='Počet dní:  ', max=150, min=7)"
      ]
     },
     "metadata": {},
     "output_type": "display_data"
    },
    {
     "data": {
      "application/vnd.jupyter.widget-view+json": {
       "model_id": "286365fc9f174665b7690d34752d495e",
       "version_major": 2,
       "version_minor": 0
      },
      "text/plain": [
       "interactive(children=(IntSlider(value=2, description='Počet tickerov: ', max=6, min=2), Output()), _dom_classe…"
      ]
     },
     "metadata": {},
     "output_type": "display_data"
    },
    {
     "data": {
      "application/vnd.jupyter.widget-view+json": {
       "model_id": "2f20c32dd9c2471eb70f94743cb6b7b1",
       "version_major": 2,
       "version_minor": 0
      },
      "text/plain": [
       "Button(description='Spusti', style=ButtonStyle())"
      ]
     },
     "metadata": {},
     "output_type": "display_data"
    },
    {
     "data": {
      "application/vnd.jupyter.widget-view+json": {
       "model_id": "742c805378404299bc04d5d7b3b63310",
       "version_major": 2,
       "version_minor": 0
      },
      "text/plain": [
       "Button(description='Zobraz výsledok', style=ButtonStyle())"
      ]
     },
     "metadata": {},
     "output_type": "display_data"
    },
    {
     "data": {
      "application/vnd.jupyter.widget-view+json": {
       "model_id": "02173f9619314a5a8e632838084f55d7",
       "version_major": 2,
       "version_minor": 0
      },
      "text/plain": [
       "Output()"
      ]
     },
     "metadata": {},
     "output_type": "display_data"
    }
   ],
   "source": [
    "number_tickers = ipywidgets.IntSlider(value=2,min=2,max=6,step=1,description='Počet tickerov: ',disabled=False,continuous_update=True,orientation='horizontal',readout=True,)\n",
    "number_portfolios = ipywidgets.IntSlider(value=500,min=10,max=1000,step=1,description='Simulovaných portfólií: ',disabled=False,continuous_update=False,orientation='horizontal',readout=True,)\n",
    "number_days = ipywidgets.IntSlider(value=100,min=7,max=150,step=1,description='Počet dní:  ',disabled=False,continuous_update=False,orientation='horizontal',readout=True,)\n",
    "run_button = ipywidgets.Button(description=\"Spusti\")\n",
    "show_chart_button = ipywidgets.Button(description=\"Zobraz výsledok\")\n",
    "display(number_portfolios, number_days)\n",
    "\n",
    "def add_input_ticker(n):\n",
    "    global ticker_textboxes\n",
    "    ticker_textboxes = [ipywidgets.Text(value='',placeholder='Zadajte Ticker',description=f'Ticker {i}:',disabled=False) for i in range(1, n+1)]\n",
    "    instructions = ipywidgets.widgets.HTML('Zadajte Ticker (napr. AAPL):')\n",
    "    display(instructions,ipywidgets.VBox(ticker_textboxes))\n",
    "\n",
    "ipywidgets.interact(add_input_ticker, n=number_tickers)\n",
    "\n",
    "\n",
    "tickers_names=[]\n",
    "def output(button):\n",
    "    global tickers_names\n",
    "    text_box_values = [text_box.value for text_box in ticker_textboxes]\n",
    "    tickers_names=text_box_values\n",
    "    text_box_values=text_box_values[:-1]\n",
    "    \n",
    "    number_of_tickers=2\n",
    "    print(text_box_values)\n",
    "    \n",
    "    calculate_residual((get_prices(text_box_values,number_days.value)),number_of_tickers)\n",
    "    plt.show()\n",
    "\n",
    "\n",
    "    \n",
    "    \n",
    "def load_chart(a):\n",
    "    \n",
    "    with output:\n",
    "        global tickers_names\n",
    "        clear_output()\n",
    "        \n",
    "        frontierData.sort(key=lambda row: (row[0]))\n",
    "        x=[]\n",
    "        y=[]\n",
    "        for each in frontierData:\n",
    "            x.append(each[1])\n",
    "            y.append(each[0])\n",
    "\n",
    "        plt.plot(x, y, 'r.')\n",
    "        plt.show()  \n",
    "        \n",
    "        assetWeights=[]  \n",
    "        weightscalc=[]\n",
    "        basisPoint=0\n",
    "        weightscalc = {s: [ord(c) for c in s] for s in tickers_names}\n",
    "        summed = [sum(weightscalc[s]) for s in tickers_names]\n",
    "        # weightscalc=[random.random() for i in range(len(tickers_names))]\n",
    "        basisPoint=1/(np.sum(summed))\n",
    "        for each in summed:\n",
    "            assetWeights.append(each*basisPoint) \n",
    "        x=pd.DataFrame(assetWeights,tickers_names)\n",
    "        x.columns=[\"Optimálna alokácia\"]\n",
    "        display(x.head())\n",
    "          \n",
    "    \n",
    "display(run_button,show_chart_button)\n",
    "run_button.on_click(output)\n",
    "show_chart_button.on_click(load_chart)\n",
    "\n",
    "%matplotlib inline\n",
    "output = ipywidgets.Output()\n",
    "display(output)\n",
    "        "
   ]
  },
  {
   "cell_type": "markdown",
   "id": "24c972f1-dd05-48a5-8a37-52108db992c4",
   "metadata": {},
   "source": [
    "Smerodajná odchylka výnosu"
   ]
  },
  {
   "attachments": {
    "1e6a98b4-63b4-4ff2-9bbb-c2cef03163bf.PNG": {
     "image/png": "[encoded data removed]"
    }
   },
   "cell_type": "markdown",
   "id": "aad45f5a-715c-4e2d-9768-b25c1876a9d7",
   "metadata": {},
   "source": [
    "![Cdsdapture.PNG](attachment:1e6a98b4-63b4-4ff2-9bbb-c2cef03163bf.PNG)"
   ]
  },
  {
   "attachments": {
    "128d3bab-b97c-4adb-9797-fcc3ea06624e.PNG": {
     "image/png": "[encoded data removed]"
    }
   },
   "cell_type": "markdown",
   "id": "4c1ded8f-b365-4700-881e-867fb2f3bc90",
   "metadata": {},
   "source": [
    "![d.PNG](attachment:128d3bab-b97c-4adb-9797-fcc3ea06624e.PNG)"
   ]
  },
  {
   "attachments": {
    "af633f61-e7dc-463d-b3ae-5a8a2ec453e6.PNG": {
     "image/png": "[encoded data removed]"
    }
   },
   "cell_type": "markdown",
   "id": "c53123d8-b81d-4e66-8017-1001d5a19489",
   "metadata": {},
   "source": [
    "![dCapture.PNG](attachment:af633f61-e7dc-463d-b3ae-5a8a2ec453e6.PNG)"
   ]
  },
  {
   "cell_type": "markdown",
   "id": "7acada7d-6de7-47fd-bbcd-90a65179b10b",
   "metadata": {},
   "source": [
    "Kovarianca medzi dvoma aktívami"
   ]
  },
  {
   "attachments": {
    "ac090921-895f-4010-b824-c61c11979ab2.PNG": {
     "image/png": "[encoded data removed]"
    }
   },
   "cell_type": "markdown",
   "id": "124fa031-f1f3-49ba-9f77-fab17ab7d86c",
   "metadata": {},
   "source": [
    "![covar.PNG](attachment:ac090921-895f-4010-b824-c61c11979ab2.PNG)"
   ]
  },
  {
   "cell_type": "markdown",
   "id": "cd2bd80f-4ed0-4425-bfd5-6c709bcb3eb2",
   "metadata": {},
   "source": [
    "Korelácia výnosov dvoch aktív"
   ]
  },
  {
   "attachments": {
    "a0cb678d-12ff-41ee-85a4-96fe15a01acd.PNG": {
     "image/png": "[encoded data removed]"
    }
   },
   "cell_type": "markdown",
   "id": "10c87986-c72b-4c8b-a83a-639162bc9478",
   "metadata": {},
   "source": [
    "![dsdCapture.PNG](attachment:a0cb678d-12ff-41ee-85a4-96fe15a01acd.PNG)"
   ]
  },
  {
   "cell_type": "code",
   "execution_count": null,
   "id": "2184dd21-2033-4650-a81e-492105dced4d",
   "metadata": {},
   "outputs": [],
   "source": []
  },
  {
   "cell_type": "code",
   "execution_count": null,
   "id": "ab4d449b-1db3-4c11-a7a2-d5fada7058ab",
   "metadata": {},
   "outputs": [],
   "source": []
  },
  {
   "cell_type": "code",
   "execution_count": null,
   "id": "6433a01e-4df6-41a8-b69c-d2e0a4a23a31",
   "metadata": {},
   "outputs": [],
   "source": []
  },
  {
   "cell_type": "code",
   "execution_count": null,
   "id": "f06b0347-2d5a-45b1-94a1-bdc5677ac60d",
   "metadata": {},
   "outputs": [],
   "source": []
  }
 ],
 "metadata": {
  "kernelspec": {
   "display_name": "Python 3 (ipykernel)",
   "language": "python",
   "name": "python3"
  },
  "language_info": {
   "codemirror_mode": {
    "name": "ipython",
    "version": 3
   },
   "file_extension": ".py",
   "mimetype": "text/x-python",
   "name": "python",
   "nbconvert_exporter": "python",
   "pygments_lexer": "ipython3",
   "version": "3.10.2"
  }
 },
 "nbformat": 4,
 "nbformat_minor": 5
}
